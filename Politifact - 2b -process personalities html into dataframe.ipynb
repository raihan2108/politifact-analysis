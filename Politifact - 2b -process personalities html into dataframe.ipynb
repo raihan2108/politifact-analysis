{
 "cells": [
  {
   "cell_type": "markdown",
   "metadata": {},
   "source": [
    "Analysis ideas\n",
    "* word cloud or analysis of what words are indicative of lying or truth\n",
    "* ranking of who is most trustworthy and liars\n",
    "* compare republicans and democrats based on their personalities bio page text\n",
    "    * e.g. https://www.politifact.com/personalities/seth-moulton/"
   ]
  },
  {
   "cell_type": "code",
   "execution_count": 22,
   "metadata": {},
   "outputs": [],
   "source": [
    "import numpy as np\n",
    "from bs4 import BeautifulSoup\n",
    "import pandas as pd\n",
    "from collections import defaultdict\n",
    "import glob\n",
    "from collections import defaultdict"
   ]
  },
  {
   "cell_type": "markdown",
   "metadata": {},
   "source": [
    "# Example of reading 1 file"
   ]
  },
  {
   "cell_type": "code",
   "execution_count": 12,
   "metadata": {},
   "outputs": [
    {
     "name": "stderr",
     "output_type": "stream",
     "text": [
      "/Users/scott/anaconda/lib/python3.6/site-packages/bs4/__init__.py:181: UserWarning: No parser was explicitly specified, so I'm using the best available HTML parser for this system (\"lxml\"). This usually isn't a problem, but if you run this code on another system, or in a different virtual environment, it may use a different parser and behave differently.\n",
      "\n",
      "The code that caused this warning is on line 193 of the file /Users/scott/anaconda/lib/python3.6/runpy.py. To get rid of this warning, change code that looks like this:\n",
      "\n",
      " BeautifulSoup([your markup])\n",
      "\n",
      "to this:\n",
      "\n",
      " BeautifulSoup([your markup], \"lxml\")\n",
      "\n",
      "  markup_type=markup_type))\n"
     ]
    }
   ],
   "source": [
    "# Load a saved html\n",
    "file = open('/gh/data/politifact/20190707scrape_personalities/{}.html'.format('barack-obama'),'r') \n",
    "html = file.read()\n",
    "\n",
    "# Get list of html for each entry\n",
    "bsObj = BeautifulSoup(html)"
   ]
  },
  {
   "cell_type": "code",
   "execution_count": 18,
   "metadata": {},
   "outputs": [
    {
     "name": "stdout",
     "output_type": "stream",
     "text": [
      "Democrat from Illinois\n"
     ]
    }
   ],
   "source": [
    "\n",
    "print(title)"
   ]
  },
  {
   "cell_type": "markdown",
   "metadata": {},
   "source": [
    "# Load all htmls into a dataframe"
   ]
  },
  {
   "cell_type": "code",
   "execution_count": 64,
   "metadata": {
    "scrolled": true
   },
   "outputs": [],
   "source": [
    "# Get all personality pages\n",
    "import glob\n",
    "html_files = glob.glob('/gh/data/politifact/20190707scrape_personalities/*')\n",
    "\n",
    "# For \n",
    "person_dict = defaultdict(list)\n",
    "for html_file in html_files:\n",
    "    \n",
    "    # Read html\n",
    "    file = open(html_file,'r') \n",
    "    html = file.read()\n",
    "    bsObj = BeautifulSoup(html, 'html.parser')\n",
    "    \n",
    "    # Get title\n",
    "    title_obj = bsObj.find(\"h3\", {'class': 'scorecard__title'})\n",
    "    if title_obj is None:\n",
    "        title = None\n",
    "    else:\n",
    "        title = title_obj.text.strip()\n",
    "    \n",
    "    # Get bio\n",
    "    bio_obj = bsObj.find(\"div\", {'class': 'scorecard__bio-text'})\n",
    "    if bio_obj is None:\n",
    "        bio = None\n",
    "    else:\n",
    "        bio = bio_obj.text.strip()\n",
    "        \n",
    "    # Save\n",
    "    person_id = html_file.split('/')[-1][:-5]\n",
    "    person_dict['person'].append(person_id)\n",
    "    person_dict['title'].append(title)\n",
    "    person_dict['bio'].append(bio)\n",
    "df_persons = pd.DataFrame(person_dict)\n",
    "df_persons.dropna(inplace=True) # drops 1 row\n",
    "df_persons.to_csv('/gh/data/politifact/20190707scrape_personalities/raw_processed.csv')"
   ]
  },
  {
   "cell_type": "code",
   "execution_count": 70,
   "metadata": {},
   "outputs": [
    {
     "data": {
      "text/html": [
       "<div>\n",
       "<style scoped>\n",
       "    .dataframe tbody tr th:only-of-type {\n",
       "        vertical-align: middle;\n",
       "    }\n",
       "\n",
       "    .dataframe tbody tr th {\n",
       "        vertical-align: top;\n",
       "    }\n",
       "\n",
       "    .dataframe thead th {\n",
       "        text-align: right;\n",
       "    }\n",
       "</style>\n",
       "<table border=\"1\" class=\"dataframe\">\n",
       "  <thead>\n",
       "    <tr style=\"text-align: right;\">\n",
       "      <th></th>\n",
       "      <th>person</th>\n",
       "      <th>title</th>\n",
       "      <th>bio</th>\n",
       "    </tr>\n",
       "  </thead>\n",
       "  <tbody>\n",
       "    <tr>\n",
       "      <th>0</th>\n",
       "      <td>texas-values</td>\n",
       "      <td>Our Texas Values feeds</td>\n",
       "      <td>Established in 2012, Texas Values is an Austin...</td>\n",
       "    </tr>\n",
       "    <tr>\n",
       "      <th>1</th>\n",
       "      <td>teresa-fedor</td>\n",
       "      <td>Democrat from Ohio</td>\n",
       "      <td>Teresa Fedor is a Democrat in the Ohio House o...</td>\n",
       "    </tr>\n",
       "    <tr>\n",
       "      <th>2</th>\n",
       "      <td>susana-mendoza</td>\n",
       "      <td>Our Susana Mendoza feeds</td>\n",
       "      <td>Susana Mendoza is the Illinois comptroller. Me...</td>\n",
       "    </tr>\n",
       "    <tr>\n",
       "      <th>3</th>\n",
       "      <td>stephen-martin</td>\n",
       "      <td>Republican from Virginia</td>\n",
       "      <td>Stephen Martin, R-Chesterfield, represents the...</td>\n",
       "    </tr>\n",
       "    <tr>\n",
       "      <th>4</th>\n",
       "      <td>brent-larkin</td>\n",
       "      <td>None from Ohio</td>\n",
       "      <td>Brent Larkin writes a weekly column for The Pl...</td>\n",
       "    </tr>\n",
       "  </tbody>\n",
       "</table>\n",
       "</div>"
      ],
      "text/plain": [
       "           person                     title  \\\n",
       "0    texas-values    Our Texas Values feeds   \n",
       "1    teresa-fedor        Democrat from Ohio   \n",
       "2  susana-mendoza  Our Susana Mendoza feeds   \n",
       "3  stephen-martin  Republican from Virginia   \n",
       "4    brent-larkin            None from Ohio   \n",
       "\n",
       "                                                 bio  \n",
       "0  Established in 2012, Texas Values is an Austin...  \n",
       "1  Teresa Fedor is a Democrat in the Ohio House o...  \n",
       "2  Susana Mendoza is the Illinois comptroller. Me...  \n",
       "3  Stephen Martin, R-Chesterfield, represents the...  \n",
       "4  Brent Larkin writes a weekly column for The Pl...  "
      ]
     },
     "execution_count": 70,
     "metadata": {},
     "output_type": "execute_result"
    }
   ],
   "source": [
    "df_persons.head()"
   ]
  },
  {
   "cell_type": "code",
   "execution_count": null,
   "metadata": {},
   "outputs": [],
   "source": []
  }
 ],
 "metadata": {
  "kernelspec": {
   "display_name": "Python 3",
   "language": "python",
   "name": "python3"
  },
  "language_info": {
   "codemirror_mode": {
    "name": "ipython",
    "version": 3
   },
   "file_extension": ".py",
   "mimetype": "text/x-python",
   "name": "python",
   "nbconvert_exporter": "python",
   "pygments_lexer": "ipython3",
   "version": "3.6.4"
  }
 },
 "nbformat": 4,
 "nbformat_minor": 2
}
